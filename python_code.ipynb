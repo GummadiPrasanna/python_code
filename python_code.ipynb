{
 "cells": [
  {
   "cell_type": "code",
   "execution_count": null,
   "id": "39f04a9d",
   "metadata": {},
   "outputs": [],
   "source": [
    "class father:\n",
    "    def _init_(self,,fname,fsname,f_occ):\n",
    "        self.fname=fname\n",
    "        self.fsname=fsname\n",
    "        self.f_occ=f_occ\n",
    "    def occ_check_father(self):\n",
    "        print(\"The Initial occupation is Doctor\")\n",
    "    def f_details(self):\n",
    "        print(\"The Father's Name\",self.fname)\n",
    "        print(\"The Father's Initial Name\",self.fsname)\n",
    "        print(\"The Father's Current Occupation is \",self.f_occ)\n",
    "        "
   ]
  },
  {
   "cell_type": "code",
   "execution_count": null,
   "id": "15aa4535",
   "metadata": {},
   "outputs": [],
   "source": [
    "fobj=father('venkat','veeranki','lawyer')"
   ]
  },
  {
   "cell_type": "code",
   "execution_count": null,
   "id": "ba8eabb8",
   "metadata": {},
   "outputs": [],
   "source": [
    "fobj"
   ]
  },
  {
   "cell_type": "code",
   "execution_count": null,
   "id": "6e5f708a",
   "metadata": {},
   "outputs": [],
   "source": [
    "fobj.occ_check_father()"
   ]
  },
  {
   "cell_type": "code",
   "execution_count": null,
   "id": "ca447d4a",
   "metadata": {},
   "outputs": [],
   "source": [
    "fobj.f_details()"
   ]
  },
  {
   "cell_type": "code",
   "execution_count": null,
   "id": "5b3caef5",
   "metadata": {},
   "outputs": [],
   "source": [
    "class mother:\n",
    "    def _init_(self,mname,msname,m_occ):\n",
    "        self.mname=mname\n",
    "        self.msname=msname\n",
    "        self.m_occ=m_occ\n",
    "    def occ_check_mother(self):\n",
    "        print(\"The Initial occupation is Homemaker\")\n",
    "    def m_details(self):\n",
    "        print(\"The Mother's Name\",self.mname)\n",
    "        print(\"The Mother's Initial Name\",self.msname)\n",
    "        print(\"The Mother's Current Occupation is \",self.m_occ)"
   ]
  },
  {
   "cell_type": "code",
   "execution_count": null,
   "id": "c41f7456",
   "metadata": {},
   "outputs": [],
   "source": [
    "mobj=mother('lakshmi','veeranki','teacher')"
   ]
  },
  {
   "cell_type": "code",
   "execution_count": null,
   "id": "0f32e570",
   "metadata": {},
   "outputs": [],
   "source": [
    "mobj"
   ]
  },
  {
   "cell_type": "code",
   "execution_count": null,
   "id": "9b0cf98d",
   "metadata": {},
   "outputs": [],
   "source": [
    "mobj.occ_check_mother()"
   ]
  },
  {
   "cell_type": "code",
   "execution_count": null,
   "id": "5ee6fa97",
   "metadata": {},
   "outputs": [],
   "source": [
    "mobj.m_details()"
   ]
  },
  {
   "cell_type": "code",
   "execution_count": null,
   "id": "dc543106",
   "metadata": {},
   "outputs": [],
   "source": [
    "class child(father,mother):\n",
    "    def _init_(self,,fname,fsname,f_occ,mname,msname,m_occ,cname,cqual):\n",
    "        father._init_(self,fname,fsname,f_occ)\n",
    "        mother._init_(self,mname,msname,m_occ)\n",
    "        self.cname=cname\n",
    "        self.cqual=cqual\n",
    "    def qual_check_child(self):\n",
    "        print(\"The\",self.cname,\"is studying B.Tech\")\n",
    "    def qual_update(self):\n",
    "        father.f_details(self)\n",
    "        mother.m_details(self)\n",
    "        print(\"The Child's Name\",self.cname)\n",
    "        print(\"The Child's Current Qualificationis \",self.cqual)"
   ]
  },
  {
   "cell_type": "code",
   "execution_count": null,
   "id": "572bf79b",
   "metadata": {},
   "outputs": [],
   "source": [
    "cobj=child('venkat','veeranki','lawyer','lakshmi','veeranki','teacher','raghu','M.tech')"
   ]
  },
  {
   "cell_type": "code",
   "execution_count": null,
   "id": "a9503c6c",
   "metadata": {},
   "outputs": [],
   "source": [
    "cobj"
   ]
  },
  {
   "cell_type": "code",
   "execution_count": null,
   "id": "3cbc232a",
   "metadata": {},
   "outputs": [],
   "source": [
    "cobj=.qual_check_child"
   ]
  },
  {
   "cell_type": "code",
   "execution_count": null,
   "id": "34fde1d1",
   "metadata": {},
   "outputs": [],
   "source": [
    "cobj=.qual_update()"
   ]
  },
  {
   "cell_type": "code",
   "execution_count": null,
   "id": "33dae6a3",
   "metadata": {},
   "outputs": [],
   "source": []
  },
  {
   "cell_type": "code",
   "execution_count": null,
   "id": "3ab45713",
   "metadata": {},
   "outputs": [],
   "source": []
  },
  {
   "cell_type": "code",
   "execution_count": null,
   "id": "73a90bbe",
   "metadata": {},
   "outputs": [],
   "source": []
  }
 ],
 "metadata": {
  "kernelspec": {
   "display_name": "Python 3 (ipykernel)",
   "language": "python",
   "name": "python3"
  },
  "language_info": {
   "codemirror_mode": {
    "name": "ipython",
    "version": 3
   },
   "file_extension": ".py",
   "mimetype": "text/x-python",
   "name": "python",
   "nbconvert_exporter": "python",
   "pygments_lexer": "ipython3",
   "version": "3.10.9"
  }
 },
 "nbformat": 4,
 "nbformat_minor": 5
}
